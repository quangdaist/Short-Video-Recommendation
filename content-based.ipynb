{
 "cells": [
  {
   "cell_type": "code",
   "execution_count": 97,
   "metadata": {
    "collapsed": false
   },
   "outputs": [],
   "source": [
    "# importing necessary libraries\n",
    "import glob\n",
    "import numpy as np\n",
    "import re\n",
    "import requests\n",
    "import pandas as pd\n",
    "from pyvi.ViTokenizer import ViTokenizer\n",
    "from sklearn.feature_extraction.text import TfidfVectorizer\n",
    "from sklearn.metrics.pairwise import cosine_similarity, linear_kernel\n",
    "import matplotlib.pyplot as plt\n",
    "import seaborn as sns\n",
    "import warnings\n",
    "warnings.filterwarnings(\"ignore\")\n"
   ]
  },
  {
   "cell_type": "code",
   "execution_count": 2,
   "metadata": {
    "collapsed": false
   },
   "outputs": [],
   "source": [
    "# read all file csv in raw folder\n",
    "path = r'raw'\n",
    "all_files = glob.glob(path + \"/*.csv\")\n",
    "history = pd.concat((pd.read_csv(f) for f in all_files), ignore_index=True)\n"
   ]
  },
  {
   "cell_type": "code",
   "execution_count": 3,
   "metadata": {},
   "outputs": [
    {
     "name": "stdout",
     "output_type": "stream",
     "text": [
      "<class 'pandas.core.frame.DataFrame'>\n",
      "RangeIndex: 650 entries, 0 to 649\n",
      "Data columns (total 8 columns):\n",
      " #   Column          Non-Null Count  Dtype  \n",
      "---  ------          --------------  -----  \n",
      " 0   url             650 non-null    object \n",
      " 1   desc_video      630 non-null    object \n",
      " 2   like_count      650 non-null    object \n",
      " 3   comment_count   650 non-null    object \n",
      " 4   like            650 non-null    int64  \n",
      " 5   time_container  650 non-null    object \n",
      " 6   timestamp       650 non-null    float64\n",
      " 7   user            650 non-null    object \n",
      "dtypes: float64(1), int64(1), object(6)\n",
      "memory usage: 40.8+ KB\n"
     ]
    }
   ],
   "source": [
    "history.info()\n"
   ]
  },
  {
   "cell_type": "code",
   "execution_count": 4,
   "metadata": {},
   "outputs": [],
   "source": [
    "history.replace(np.nan, '', inplace=True)\n",
    "history['desc_video'] = history['desc_video'].astype(str)\n"
   ]
  },
  {
   "cell_type": "code",
   "execution_count": 5,
   "metadata": {
    "collapsed": false
   },
   "outputs": [],
   "source": [
    "# split attributes about video base on url\n",
    "for i in range(len(history)):\n",
    "    text = history.loc[i, 'url'].split('/')[-1]\n",
    "    info_video = re.findall(r'\\d+', text)\n",
    "    history.loc[i, 'id'] = info_video[0]  # id video\n",
    "    history.loc[i, 'from_webapp'] = info_video[1]  # from_webapp\n",
    "    history.loc[i, 'web_id'] = info_video[2]  # from_webapp\n",
    "\n",
    "history.drop_duplicates(subset='id', inplace=True)\n",
    "history.reset_index(inplace=True, drop=True)\n"
   ]
  },
  {
   "cell_type": "markdown",
   "metadata": {},
   "source": [
    "## Preprocess sentences\n"
   ]
  },
  {
   "cell_type": "code",
   "execution_count": 6,
   "metadata": {
    "collapsed": false
   },
   "outputs": [],
   "source": [
    "def download_stopwords():\n",
    "    \"\"\"\n",
    "    Get stopwords from GitHub\n",
    "    \"\"\"\n",
    "    stopwords_url = 'https://raw.githubusercontent.com/stopwords/vietnamese-stopwords/master/vietnamese-stopwords-dash.txt'\n",
    "    response = requests.get(stopwords_url)\n",
    "    stopwords = response.text.split('\\n')\n",
    "    stopwords = set(stopwords)\n",
    "    return stopwords\n",
    "\n",
    "\n",
    "stopwords = download_stopwords()\n"
   ]
  },
  {
   "cell_type": "code",
   "execution_count": 7,
   "metadata": {
    "collapsed": false
   },
   "outputs": [],
   "source": [
    "def filter_stop_words(sentences, stop_words):\n",
    "    new_sent = [word for word in sentences.split() if word not in stop_words]\n",
    "    sentences = ' '.join(new_sent)\n",
    "    return sentences\n",
    "\n",
    "\n",
    "def de_emojify(text):\n",
    "    regrex_pattern = re.compile(pattern=\"[\"\n",
    "                                        u\"\\U0001F600-\\U0001F64F\"  # emoticons\n",
    "                                        u\"\\U0001F300-\\U0001F5FF\"  # symbols & pictographs\n",
    "                                        u\"\\U0001F680-\\U0001F6FF\"  # transport & map symbols\n",
    "                                        u\"\\U0001F1E0-\\U0001F1FF\"  # flags (iOS)\n",
    "                                        \"]+\", flags=re.UNICODE)\n",
    "    return regrex_pattern.sub(r'', text)\n",
    "\n",
    "\n",
    "def preprocess(text, tokenized=True, lowercased=True):\n",
    "    text = text.lower() if lowercased else text\n",
    "    text = de_emojify(text)\n",
    "    text = ViTokenizer.tokenize(text) if tokenized else text\n",
    "    text = re.sub(r'[^\\w]', ' ', text)\n",
    "    text = filter_stop_words(text, stopwords)\n",
    "    return text\n",
    "\n",
    "\n",
    "def pre_process_features(sentences, tokenized=True, lowercased=True):\n",
    "    sentences = [preprocess(str(p), tokenized=tokenized,\n",
    "                            lowercased=lowercased) for p in list(sentences)]\n",
    "    for idx, ele in enumerate(sentences):\n",
    "        if not ele:\n",
    "            np.delete(sentences, idx)\n",
    "    return sentences\n",
    "\n",
    "\n",
    "# Preprocess description\n",
    "history['desc_cleaned'] = pre_process_features(history['desc_video'])\n"
   ]
  },
  {
   "cell_type": "code",
   "execution_count": 9,
   "metadata": {
    "collapsed": false
   },
   "outputs": [],
   "source": [
    "from sklearn.model_selection import train_test_split\n",
    "# train test split\n",
    "train, test = train_test_split(\n",
    "    history, train_size=0.1, shuffle=False)\n",
    "# get indices of video which user liked\n",
    "indices_liked_train = np.where(train['like'] == 1)[0]\n",
    "indices_liked_test = np.where(test['like'] == 1)[0]\n"
   ]
  },
  {
   "cell_type": "code",
   "execution_count": 55,
   "metadata": {},
   "outputs": [],
   "source": [
    "liked_videos = history.loc[history['like'] == 1, 'id'].values\n"
   ]
  },
  {
   "cell_type": "markdown",
   "metadata": {},
   "source": [
    "## Evaluate recommender system\n"
   ]
  },
  {
   "cell_type": "code",
   "execution_count": 67,
   "metadata": {},
   "outputs": [],
   "source": [
    "def precision(actual, predicted, k):\n",
    "    act_set = list(actual)\n",
    "    pred_set = list(predicted[:k]) if k < len(act_set) else list(predicted)\n",
    "    right_pred = [act_set[i] == pred_set[i] for i in range(k)]\n",
    "    result = sum(right_pred) / float(k)\n",
    "    return result\n",
    "\n",
    "\n",
    "def recall(actual, predicted, k):\n",
    "    act_set = list(actual)\n",
    "    pred_set = list(predicted[:k]) if k < len(act_set) else list(predicted)\n",
    "    right_pred = [act_set[i] == pred_set[i] for i in range(k)]\n",
    "    result = sum(right_pred) / float(len(act_set))\n",
    "    return result\n"
   ]
  },
  {
   "cell_type": "markdown",
   "metadata": {
    "collapsed": false
   },
   "source": [
    "# TF-IDF\n"
   ]
  },
  {
   "cell_type": "code",
   "execution_count": 10,
   "metadata": {
    "collapsed": false
   },
   "outputs": [],
   "source": [
    "# Term Frequency-Inverse Document frequency\n",
    "tfidf = TfidfVectorizer()\n",
    "descr_train = tfidf.fit_transform(train['desc_cleaned'])\n",
    "avg_descr_liked = np.mean(descr_train[indices_liked_train], axis=0)\n"
   ]
  },
  {
   "cell_type": "code",
   "execution_count": 11,
   "metadata": {},
   "outputs": [],
   "source": [
    "descr_test = tfidf.transform(test['desc_cleaned'])\n"
   ]
  },
  {
   "cell_type": "code",
   "execution_count": 12,
   "metadata": {
    "collapsed": false
   },
   "outputs": [],
   "source": [
    "# measure the similarity between 2 description vector base on Cosine_Similarity\n",
    "sim_matrix_test = linear_kernel(avg_descr_liked, descr_test)\n"
   ]
  },
  {
   "cell_type": "code",
   "execution_count": 13,
   "metadata": {
    "collapsed": false
   },
   "outputs": [],
   "source": [
    "def recommend_video_based_on_desc(dataset, similarity_score, num_video=-1, print_details=False):\n",
    "    # get similarity values with other video\n",
    "    # sort in descending order the similarity score of movie inputted with all the other videos\n",
    "    similarity_score = sorted(\n",
    "        similarity_score, key=lambda x: x[1], reverse=True)\n",
    "    # Get the scores of the 15 most similar videos. Ignore the first movie.\n",
    "    if num_video > 0:\n",
    "        similarity_score = similarity_score[:num_video]\n",
    "    if print_details:\n",
    "        print(\"Recommend\", end=\" \")\n",
    "        if num_video:\n",
    "            print(f\"{num_video}\", end=\" \")\n",
    "        print('videos are similar for user based on watched videos.')\n",
    "    # return movie names using the mapping series\n",
    "    video_indices = {dataset['id'].values[idx[0]]: idx[1]\n",
    "                     for idx in similarity_score}\n",
    "    if print_details:\n",
    "        for i, v in video_indices.items():\n",
    "            print(f\"-> Video has id \\\"{i}\\\" with similarity: {v}\")\n",
    "    return video_indices\n"
   ]
  },
  {
   "cell_type": "code",
   "execution_count": 14,
   "metadata": {},
   "outputs": [],
   "source": [
    "similarity_score = list(enumerate(sim_matrix_test[0]))\n",
    "rec_test_video = recommend_video_based_on_desc(test, similarity_score)\n"
   ]
  },
  {
   "cell_type": "code",
   "execution_count": 15,
   "metadata": {},
   "outputs": [],
   "source": [
    "test['id_recommend_tfidf'], test['watched_video_tfidf_similarity'] = rec_test_video.keys(\n",
    "), rec_test_video.values()\n",
    "\n",
    "test['pred_like_tfidf'] = test['id_recommend_tfidf'].apply(\n",
    "    lambda x: 1 if x in liked_videos else 0)\n"
   ]
  },
  {
   "cell_type": "markdown",
   "metadata": {},
   "source": [
    "### Evaluate\n"
   ]
  },
  {
   "cell_type": "code",
   "execution_count": 78,
   "metadata": {},
   "outputs": [
    {
     "name": "stdout",
     "output_type": "stream",
     "text": [
      "Precision on the test-set: 0.7202072538860104\n",
      "Recall on the test-set: 0.7202072538860104\n"
     ]
    }
   ],
   "source": [
    "k_ = len(test)\n",
    "precision_idf = precision(test['like'], test['pred_like_tfidf'], k_)\n",
    "recall_idf = recall(test['like'], test['pred_like_tfidf'], k_)\n",
    "print('Precision on the test-set:', precision_idf)\n",
    "print('Recall on the test-set:', recall_idf)\n"
   ]
  },
  {
   "cell_type": "code",
   "execution_count": 109,
   "metadata": {},
   "outputs": [
    {
     "data": {
      "image/png": "[encoded data removed]",
      "text/plain": [
       "<Figure size 640x480 with 1 Axes>"
      ]
     },
     "metadata": {},
     "output_type": "display_data"
    }
   ],
   "source": [
    "k_video_precision_tfidf = {k: precision(\n",
    "    test['like'], test['pred_like_tfidf'], k) for k in range(1, len(test)+1, 5)}\n",
    "k_video_recall_tfidf = {k: recall(\n",
    "    test['like'], test['pred_like_tfidf'], k) for k in range(1, len(test)+1, 5)}\n",
    "\n",
    "plt.title(\"Precision, Recall at k (TF-IDF)\")\n",
    "plt.plot(k_video_precision_tfidf.keys(),\n",
    "         k_video_precision_tfidf.values(), label='Precision')\n",
    "plt.plot(k_video_recall_tfidf.keys(),\n",
    "         k_video_recall_tfidf.values(), label='Recall')\n",
    "plt.xlabel('K')\n",
    "plt.legend()\n",
    "plt.show()"
   ]
  },
  {
   "cell_type": "markdown",
   "metadata": {
    "collapsed": false
   },
   "source": [
    "# Word to Vec\n"
   ]
  },
  {
   "cell_type": "code",
   "execution_count": 17,
   "metadata": {
    "collapsed": false
   },
   "outputs": [],
   "source": [
    "from gensim import models\n",
    "# GitHub: https://test.ocom.vn/?url=github.com/sonvx/word2vecVN\n",
    "word2vec_path = 'word2vec_model/baomoi.window2.vn.model.bin.gz'\n",
    "w2v_model = models.KeyedVectors.load_word2vec_format(\n",
    "    word2vec_path, binary=True)\n"
   ]
  },
  {
   "cell_type": "code",
   "execution_count": 18,
   "metadata": {
    "collapsed": false
   },
   "outputs": [
    {
     "name": "stdout",
     "output_type": "stream",
     "text": [
      "The total number of words: 439056\n"
     ]
    }
   ],
   "source": [
    "vocab = w2v_model.wv.vocab\n",
    "print(\"The total number of words:\", len(vocab))\n"
   ]
  },
  {
   "cell_type": "code",
   "execution_count": 19,
   "metadata": {},
   "outputs": [
    {
     "data": {
      "text/plain": [
       "(10963, 12425)"
      ]
     },
     "execution_count": 19,
     "metadata": {},
     "output_type": "execute_result"
    }
   ],
   "source": [
    "# update vocab of w2v based on pretrained-embedding\n",
    "w2v_model_2 = models.Word2Vec(size=300, min_count=1)\n",
    "w2v_model_2.build_vocab(train['desc_cleaned'])\n",
    "total_examples = w2v_model_2.corpus_count\n",
    "w2v_model_2.build_vocab([list(w2v_model.wv.vocab)], update=True)\n",
    "w2v_model_2.intersect_word2vec_format(word2vec_path, binary=True, lockf=1.0)\n",
    "w2v_model_2.train(train['desc_cleaned'],\n",
    "                  total_examples=total_examples, epochs=w2v_model_2.iter)\n"
   ]
  },
  {
   "cell_type": "code",
   "execution_count": 20,
   "metadata": {},
   "outputs": [
    {
     "data": {
      "image/png": "[encoded data removed]",
      "text/plain": [
       "<Figure size 640x480 with 1 Axes>"
      ]
     },
     "metadata": {},
     "output_type": "display_data"
    }
   ],
   "source": [
    "from sklearn.decomposition import PCA\n",
    "# fit a 2d PCA model to the vectors\n",
    "X = w2v_model_2[w2v_model_2.wv.vocab]\n",
    "pca = PCA(n_components=2)\n",
    "result = pca.fit_transform(X)\n",
    "# create a scatter plot of the projection\n",
    "plt.scatter(result[:200, 0], result[:200, 1], c='red')\n",
    "words = list(w2v_model_2.wv.vocab)[:100]\n",
    "for i, word in enumerate(words):\n",
    "    plt.scatter(result[i, 0], result[i, 1], c='blue', marker='x')\n",
    "    plt.annotate(word, xy=(result[i, 0], result[i, 1]), color='blue')\n",
    "plt.show()\n"
   ]
  },
  {
   "cell_type": "code",
   "execution_count": 21,
   "metadata": {
    "collapsed": false
   },
   "outputs": [
    {
     "name": "stdout",
     "output_type": "stream",
     "text": [
      "Sentences have max 70 lengths\n"
     ]
    }
   ],
   "source": [
    "max_length = 0\n",
    "for val in history['desc_video']:\n",
    "    len_sentence = len(str(val).split())\n",
    "    if len_sentence > max_length:\n",
    "        max_length = len_sentence\n",
    "print(\"Sentences have max %d lengths\" % max_length)\n"
   ]
  },
  {
   "cell_type": "code",
   "execution_count": 22,
   "metadata": {},
   "outputs": [],
   "source": [
    "import torch\n",
    "dim = 300  # dimension of a word vector\n",
    "enc_descr_processed = []\n",
    "\n",
    "for descr in history['desc_cleaned']:\n",
    "    descr_list = descr.split()\n",
    "    w2v = []\n",
    "    for val in descr_list:\n",
    "        try:\n",
    "            _ = w2v_model_2.wv.get_vector(val)\n",
    "        except KeyError:\n",
    "            # if word isn't in vocab,\n",
    "            # assign it to zeros vector have 300 dim\n",
    "            _ = np.zeros((dim,))\n",
    "        w2v.append(_)\n",
    "    # w2v = torch.tensor(w2v)\n",
    "    enc_descr_processed.append(w2v)\n"
   ]
  },
  {
   "cell_type": "code",
   "execution_count": 23,
   "metadata": {},
   "outputs": [
    {
     "data": {
      "text/plain": [
       "torch.Size([643, 70, 300])"
      ]
     },
     "execution_count": 23,
     "metadata": {},
     "output_type": "execute_result"
    }
   ],
   "source": [
    "from keras.utils import pad_sequences\n",
    "# padding sentences to have equal length\n",
    "enc_descr_processed = pad_sequences(enc_descr_processed, maxlen=max_length, dtype='float',\n",
    "                                    padding='post', value=np.zeros(dim))\n",
    "enc_descr_processed = torch.from_numpy(enc_descr_processed)\n",
    "enc_descr_processed.shape\n"
   ]
  },
  {
   "cell_type": "code",
   "execution_count": 24,
   "metadata": {},
   "outputs": [],
   "source": [
    "from sklearn.model_selection import train_test_split\n",
    "# train test split\n",
    "train_enc, test_enc = train_test_split(\n",
    "    enc_descr_processed, train_size=0.1, shuffle=False)\n"
   ]
  },
  {
   "cell_type": "code",
   "execution_count": 25,
   "metadata": {},
   "outputs": [
    {
     "data": {
      "text/plain": [
       "torch.Size([70, 300])"
      ]
     },
     "execution_count": 25,
     "metadata": {},
     "output_type": "execute_result"
    }
   ],
   "source": [
    "content_profile = torch.mean(train_enc[indices_liked_train], dim=0)\n",
    "content_profile.shape\n"
   ]
  },
  {
   "cell_type": "code",
   "execution_count": 26,
   "metadata": {},
   "outputs": [],
   "source": [
    "from torch.nn import functional as F\n",
    "sim_matrix_test = [torch.mean(\n",
    "    F.cosine_similarity(content_profile, t_enc)).item() for t_enc in test_enc]\n"
   ]
  },
  {
   "cell_type": "code",
   "execution_count": 27,
   "metadata": {},
   "outputs": [],
   "source": [
    "def recommend_video_based_on_desc(dataset, similarity_score, num_video=-1, print_details=False):\n",
    "    # get similarity values with other video\n",
    "    # sort in descending order the similarity score of movie inputted with all the other videos\n",
    "    similarity_score = sorted(\n",
    "        similarity_score, key=lambda x: x[1], reverse=True)\n",
    "    # Get the scores of the 15 most similar videos. Ignore the first movie.\n",
    "    if num_video > 0:\n",
    "        similarity_score = similarity_score[:num_video]\n",
    "    if print_details:\n",
    "        print(\"Recommend\", end=\" \")\n",
    "        if num_video:\n",
    "            print(f\"{num_video}\", end=\" \")\n",
    "        print('videos are similar for user based on watched videos.')\n",
    "    # return movie names using the mapping series\n",
    "    video_indices = {dataset['id'].values[idx[0]]: idx[1]\n",
    "                     for idx in similarity_score}\n",
    "    if print_details:\n",
    "        for i, v in video_indices.items():\n",
    "            print(f\"-> Video has id \\\"{i}\\\" with similarity: {v}\")\n",
    "    return video_indices\n"
   ]
  },
  {
   "cell_type": "code",
   "execution_count": 28,
   "metadata": {},
   "outputs": [],
   "source": [
    "similarity_score = list(enumerate(sim_matrix_test))\n",
    "rec_test_video_embedding = recommend_video_based_on_desc(\n",
    "    test, similarity_score)\n"
   ]
  },
  {
   "cell_type": "code",
   "execution_count": 29,
   "metadata": {},
   "outputs": [],
   "source": [
    "test['id_recommend_embedding'], test['watched_video_embedding_similarity'] = rec_test_video_embedding.keys(\n",
    "), rec_test_video.values()\n",
    "\n",
    "test['pred_like_embedding'] = test['id_recommend_embedding'].apply(\n",
    "    lambda x: 1 if x in liked_videos else 0)\n"
   ]
  },
  {
   "cell_type": "markdown",
   "metadata": {},
   "source": [
    "### Evaluate\n"
   ]
  },
  {
   "cell_type": "code",
   "execution_count": 94,
   "metadata": {},
   "outputs": [
    {
     "name": "stdout",
     "output_type": "stream",
     "text": [
      "Precision on the test-set: 0.7271157167530224\n",
      "Recall on the test-set: 0.7271157167530224\n"
     ]
    }
   ],
   "source": [
    "k_ = len(test)\n",
    "precision_embedding = precision(test['like'], test['pred_like_embedding'], k_)\n",
    "recall_embedding = recall(test['like'], test['pred_like_embedding'], k_)\n",
    "print('Precision on the test-set:', precision_embedding)\n",
    "print('Recall on the test-set:', recall_embedding)\n"
   ]
  },
  {
   "cell_type": "code",
   "execution_count": 108,
   "metadata": {},
   "outputs": [
    {
     "data": {
      "image/png": "[encoded data removed]",
      "text/plain": [
       "<Figure size 640x480 with 1 Axes>"
      ]
     },
     "metadata": {},
     "output_type": "display_data"
    }
   ],
   "source": [
    "k_video_precision_embedding = {k: precision(\n",
    "    test['like'], test['pred_like_embedding'], k) for k in range(1, len(test)+1, 5)}\n",
    "k_video_recall_embedding = {k: recall(\n",
    "    test['like'], test['pred_like_embedding'], k) for k in range(1, len(test)+1, 5)}\n",
    "\n",
    "plt.title(\"Precision, Recall at k (W2V)\")\n",
    "plt.plot(k_video_precision_embedding.keys(),\n",
    "         k_video_precision_embedding.values(), label='Precision')\n",
    "plt.plot(k_video_recall_embedding.keys(),\n",
    "         k_video_recall_embedding.values(), label='Recall')\n",
    "plt.xlabel('K')\n",
    "plt.legend()\n",
    "plt.show()\n"
   ]
  },
  {
   "cell_type": "code",
   "execution_count": null,
   "metadata": {},
   "outputs": [],
   "source": []
  }
 ],
 "metadata": {
  "kernelspec": {
   "display_name": "Python 3.9.7 ('venv': venv)",
   "language": "python",
   "name": "python3"
  },
  "language_info": {
   "codemirror_mode": {
    "name": "ipython",
    "version": 3
   },
   "file_extension": ".py",
   "mimetype": "text/x-python",
   "name": "python",
   "nbconvert_exporter": "python",
   "pygments_lexer": "ipython3",
   "version": "3.9.7"
  },
  "vscode": {
   "interpreter": {
    "hash": "9054f8964f3770c5ae643399afaf344fb138672158dbd829a832084496dc9a2a"
   }
  }
 },
 "nbformat": 4,
 "nbformat_minor": 0
}
